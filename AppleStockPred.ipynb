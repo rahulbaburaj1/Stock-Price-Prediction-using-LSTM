{
  "nbformat": 4,
  "nbformat_minor": 0,
  "metadata": {
    "colab": {
      "provenance": [],
      "authorship_tag": "ABX9TyMHmGamxXLgmqYiePMbuajf",
      "include_colab_link": true
    },
    "kernelspec": {
      "name": "python3",
      "display_name": "Python 3"
    },
    "language_info": {
      "name": "python"
    }
  },
  "cells": [
    {
      "cell_type": "markdown",
      "metadata": {
        "id": "view-in-github",
        "colab_type": "text"
      },
      "source": [
        "<a href=\"https://colab.research.google.com/github/rahulbaburaj1/Stock-Price-Prediction-using-LSTM/blob/main/AppleStockPred.ipynb\" target=\"_parent\"><img src=\"https://colab.research.google.com/assets/colab-badge.svg\" alt=\"Open In Colab\"/></a>"
      ]
    },
    {
      "cell_type": "code",
      "execution_count": 56,
      "metadata": {
        "id": "Nj0vh2p6st-Y"
      },
      "outputs": [],
      "source": [
        "import pandas_datareader as pdr\n",
        "import seaborn as sns\n",
        "import matplotlib.pyplot as plt\n",
        "import pandas as pd\n",
        "import numpy as np"
      ]
    },
    {
      "cell_type": "code",
      "source": [
        "df = pdr.get_data_tiingo('AAPL',api_key='5bfa3b5917fe03b757e4278b0a66a3b1f5e9aafb')"
      ],
      "metadata": {
        "colab": {
          "base_uri": "https://localhost:8080/"
        },
        "id": "BTYnS6M_tMCS",
        "outputId": "8923e693-3477-4e9f-caa8-5ead4fc654de"
      },
      "execution_count": 57,
      "outputs": [
        {
          "output_type": "stream",
          "name": "stderr",
          "text": [
            "<ipython-input-57-da8c1121d949>:1: FutureWarning: In a future version of pandas all arguments of concat except for the argument 'objs' will be keyword-only.\n",
            "  df = pdr.get_data_tiingo('AAPL',api_key='5bfa3b5917fe03b757e4278b0a66a3b1f5e9aafb')\n"
          ]
        }
      ]
    },
    {
      "cell_type": "code",
      "source": [
        "df.head()"
      ],
      "metadata": {
        "colab": {
          "base_uri": "https://localhost:8080/",
          "height": 368
        },
        "id": "EkVtnM7xvYwZ",
        "outputId": "85b0f1b0-662b-48e2-d0fa-4ec0753bfd15"
      },
      "execution_count": 58,
      "outputs": [
        {
          "output_type": "execute_result",
          "data": {
            "text/plain": [
              "                                   close    high     low    open    volume  \\\n",
              "symbol date                                                                  \n",
              "AAPL   2018-08-01 00:00:00+00:00  201.50  201.76  197.31  199.13  67935716   \n",
              "       2018-08-02 00:00:00+00:00  207.39  208.38  200.35  200.58  62404012   \n",
              "       2018-08-03 00:00:00+00:00  207.99  208.74  205.48  207.03  33447396   \n",
              "       2018-08-06 00:00:00+00:00  209.07  209.25  207.07  208.00  25425387   \n",
              "       2018-08-07 00:00:00+00:00  207.11  209.50  206.76  209.32  25587387   \n",
              "\n",
              "                                   adjClose    adjHigh     adjLow    adjOpen  \\\n",
              "symbol date                                                                    \n",
              "AAPL   2018-08-01 00:00:00+00:00  48.138087  48.200200  47.137101  47.571897   \n",
              "       2018-08-02 00:00:00+00:00  49.545200  49.781710  47.863353  47.918300   \n",
              "       2018-08-03 00:00:00+00:00  49.688539  49.867713  49.088903  49.459196   \n",
              "       2018-08-06 00:00:00+00:00  49.946550  49.989551  49.468752  49.690928   \n",
              "       2018-08-07 00:00:00+00:00  49.478308  50.049276  49.394694  50.006274   \n",
              "\n",
              "                                  adjVolume  divCash  splitFactor  \n",
              "symbol date                                                        \n",
              "AAPL   2018-08-01 00:00:00+00:00  271742864      0.0          1.0  \n",
              "       2018-08-02 00:00:00+00:00  249616048      0.0          1.0  \n",
              "       2018-08-03 00:00:00+00:00  133789584      0.0          1.0  \n",
              "       2018-08-06 00:00:00+00:00  101701548      0.0          1.0  \n",
              "       2018-08-07 00:00:00+00:00  102349548      0.0          1.0  "
            ],
            "text/html": [
              "\n",
              "\n",
              "  <div id=\"df-0c00f72b-ec24-4200-a007-402b2ab5df30\">\n",
              "    <div class=\"colab-df-container\">\n",
              "      <div>\n",
              "<style scoped>\n",
              "    .dataframe tbody tr th:only-of-type {\n",
              "        vertical-align: middle;\n",
              "    }\n",
              "\n",
              "    .dataframe tbody tr th {\n",
              "        vertical-align: top;\n",
              "    }\n",
              "\n",
              "    .dataframe thead th {\n",
              "        text-align: right;\n",
              "    }\n",
              "</style>\n",
              "<table border=\"1\" class=\"dataframe\">\n",
              "  <thead>\n",
              "    <tr style=\"text-align: right;\">\n",
              "      <th></th>\n",
              "      <th></th>\n",
              "      <th>close</th>\n",
              "      <th>high</th>\n",
              "      <th>low</th>\n",
              "      <th>open</th>\n",
              "      <th>volume</th>\n",
              "      <th>adjClose</th>\n",
              "      <th>adjHigh</th>\n",
              "      <th>adjLow</th>\n",
              "      <th>adjOpen</th>\n",
              "      <th>adjVolume</th>\n",
              "      <th>divCash</th>\n",
              "      <th>splitFactor</th>\n",
              "    </tr>\n",
              "    <tr>\n",
              "      <th>symbol</th>\n",
              "      <th>date</th>\n",
              "      <th></th>\n",
              "      <th></th>\n",
              "      <th></th>\n",
              "      <th></th>\n",
              "      <th></th>\n",
              "      <th></th>\n",
              "      <th></th>\n",
              "      <th></th>\n",
              "      <th></th>\n",
              "      <th></th>\n",
              "      <th></th>\n",
              "      <th></th>\n",
              "    </tr>\n",
              "  </thead>\n",
              "  <tbody>\n",
              "    <tr>\n",
              "      <th rowspan=\"5\" valign=\"top\">AAPL</th>\n",
              "      <th>2018-08-01 00:00:00+00:00</th>\n",
              "      <td>201.50</td>\n",
              "      <td>201.76</td>\n",
              "      <td>197.31</td>\n",
              "      <td>199.13</td>\n",
              "      <td>67935716</td>\n",
              "      <td>48.138087</td>\n",
              "      <td>48.200200</td>\n",
              "      <td>47.137101</td>\n",
              "      <td>47.571897</td>\n",
              "      <td>271742864</td>\n",
              "      <td>0.0</td>\n",
              "      <td>1.0</td>\n",
              "    </tr>\n",
              "    <tr>\n",
              "      <th>2018-08-02 00:00:00+00:00</th>\n",
              "      <td>207.39</td>\n",
              "      <td>208.38</td>\n",
              "      <td>200.35</td>\n",
              "      <td>200.58</td>\n",
              "      <td>62404012</td>\n",
              "      <td>49.545200</td>\n",
              "      <td>49.781710</td>\n",
              "      <td>47.863353</td>\n",
              "      <td>47.918300</td>\n",
              "      <td>249616048</td>\n",
              "      <td>0.0</td>\n",
              "      <td>1.0</td>\n",
              "    </tr>\n",
              "    <tr>\n",
              "      <th>2018-08-03 00:00:00+00:00</th>\n",
              "      <td>207.99</td>\n",
              "      <td>208.74</td>\n",
              "      <td>205.48</td>\n",
              "      <td>207.03</td>\n",
              "      <td>33447396</td>\n",
              "      <td>49.688539</td>\n",
              "      <td>49.867713</td>\n",
              "      <td>49.088903</td>\n",
              "      <td>49.459196</td>\n",
              "      <td>133789584</td>\n",
              "      <td>0.0</td>\n",
              "      <td>1.0</td>\n",
              "    </tr>\n",
              "    <tr>\n",
              "      <th>2018-08-06 00:00:00+00:00</th>\n",
              "      <td>209.07</td>\n",
              "      <td>209.25</td>\n",
              "      <td>207.07</td>\n",
              "      <td>208.00</td>\n",
              "      <td>25425387</td>\n",
              "      <td>49.946550</td>\n",
              "      <td>49.989551</td>\n",
              "      <td>49.468752</td>\n",
              "      <td>49.690928</td>\n",
              "      <td>101701548</td>\n",
              "      <td>0.0</td>\n",
              "      <td>1.0</td>\n",
              "    </tr>\n",
              "    <tr>\n",
              "      <th>2018-08-07 00:00:00+00:00</th>\n",
              "      <td>207.11</td>\n",
              "      <td>209.50</td>\n",
              "      <td>206.76</td>\n",
              "      <td>209.32</td>\n",
              "      <td>25587387</td>\n",
              "      <td>49.478308</td>\n",
              "      <td>50.049276</td>\n",
              "      <td>49.394694</td>\n",
              "      <td>50.006274</td>\n",
              "      <td>102349548</td>\n",
              "      <td>0.0</td>\n",
              "      <td>1.0</td>\n",
              "    </tr>\n",
              "  </tbody>\n",
              "</table>\n",
              "</div>\n",
              "      <button class=\"colab-df-convert\" onclick=\"convertToInteractive('df-0c00f72b-ec24-4200-a007-402b2ab5df30')\"\n",
              "              title=\"Convert this dataframe to an interactive table.\"\n",
              "              style=\"display:none;\">\n",
              "\n",
              "  <svg xmlns=\"http://www.w3.org/2000/svg\" height=\"24px\"viewBox=\"0 0 24 24\"\n",
              "       width=\"24px\">\n",
              "    <path d=\"M0 0h24v24H0V0z\" fill=\"none\"/>\n",
              "    <path d=\"M18.56 5.44l.94 2.06.94-2.06 2.06-.94-2.06-.94-.94-2.06-.94 2.06-2.06.94zm-11 1L8.5 8.5l.94-2.06 2.06-.94-2.06-.94L8.5 2.5l-.94 2.06-2.06.94zm10 10l.94 2.06.94-2.06 2.06-.94-2.06-.94-.94-2.06-.94 2.06-2.06.94z\"/><path d=\"M17.41 7.96l-1.37-1.37c-.4-.4-.92-.59-1.43-.59-.52 0-1.04.2-1.43.59L10.3 9.45l-7.72 7.72c-.78.78-.78 2.05 0 2.83L4 21.41c.39.39.9.59 1.41.59.51 0 1.02-.2 1.41-.59l7.78-7.78 2.81-2.81c.8-.78.8-2.07 0-2.86zM5.41 20L4 18.59l7.72-7.72 1.47 1.35L5.41 20z\"/>\n",
              "  </svg>\n",
              "      </button>\n",
              "\n",
              "\n",
              "\n",
              "    <div id=\"df-870653ad-25cb-467c-85fb-40c0ddf865ae\">\n",
              "      <button class=\"colab-df-quickchart\" onclick=\"quickchart('df-870653ad-25cb-467c-85fb-40c0ddf865ae')\"\n",
              "              title=\"Suggest charts.\"\n",
              "              style=\"display:none;\">\n",
              "\n",
              "<svg xmlns=\"http://www.w3.org/2000/svg\" height=\"24px\"viewBox=\"0 0 24 24\"\n",
              "     width=\"24px\">\n",
              "    <g>\n",
              "        <path d=\"M19 3H5c-1.1 0-2 .9-2 2v14c0 1.1.9 2 2 2h14c1.1 0 2-.9 2-2V5c0-1.1-.9-2-2-2zM9 17H7v-7h2v7zm4 0h-2V7h2v10zm4 0h-2v-4h2v4z\"/>\n",
              "    </g>\n",
              "</svg>\n",
              "      </button>\n",
              "    </div>\n",
              "\n",
              "<style>\n",
              "  .colab-df-quickchart {\n",
              "    background-color: #E8F0FE;\n",
              "    border: none;\n",
              "    border-radius: 50%;\n",
              "    cursor: pointer;\n",
              "    display: none;\n",
              "    fill: #1967D2;\n",
              "    height: 32px;\n",
              "    padding: 0 0 0 0;\n",
              "    width: 32px;\n",
              "  }\n",
              "\n",
              "  .colab-df-quickchart:hover {\n",
              "    background-color: #E2EBFA;\n",
              "    box-shadow: 0px 1px 2px rgba(60, 64, 67, 0.3), 0px 1px 3px 1px rgba(60, 64, 67, 0.15);\n",
              "    fill: #174EA6;\n",
              "  }\n",
              "\n",
              "  [theme=dark] .colab-df-quickchart {\n",
              "    background-color: #3B4455;\n",
              "    fill: #D2E3FC;\n",
              "  }\n",
              "\n",
              "  [theme=dark] .colab-df-quickchart:hover {\n",
              "    background-color: #434B5C;\n",
              "    box-shadow: 0px 1px 3px 1px rgba(0, 0, 0, 0.15);\n",
              "    filter: drop-shadow(0px 1px 2px rgba(0, 0, 0, 0.3));\n",
              "    fill: #FFFFFF;\n",
              "  }\n",
              "</style>\n",
              "\n",
              "    <script>\n",
              "      async function quickchart(key) {\n",
              "        const containerElement = document.querySelector('#' + key);\n",
              "        const charts = await google.colab.kernel.invokeFunction(\n",
              "            'suggestCharts', [key], {});\n",
              "      }\n",
              "    </script>\n",
              "\n",
              "      <script>\n",
              "\n",
              "function displayQuickchartButton(domScope) {\n",
              "  let quickchartButtonEl =\n",
              "    domScope.querySelector('#df-870653ad-25cb-467c-85fb-40c0ddf865ae button.colab-df-quickchart');\n",
              "  quickchartButtonEl.style.display =\n",
              "    google.colab.kernel.accessAllowed ? 'block' : 'none';\n",
              "}\n",
              "\n",
              "        displayQuickchartButton(document);\n",
              "      </script>\n",
              "      <style>\n",
              "    .colab-df-container {\n",
              "      display:flex;\n",
              "      flex-wrap:wrap;\n",
              "      gap: 12px;\n",
              "    }\n",
              "\n",
              "    .colab-df-convert {\n",
              "      background-color: #E8F0FE;\n",
              "      border: none;\n",
              "      border-radius: 50%;\n",
              "      cursor: pointer;\n",
              "      display: none;\n",
              "      fill: #1967D2;\n",
              "      height: 32px;\n",
              "      padding: 0 0 0 0;\n",
              "      width: 32px;\n",
              "    }\n",
              "\n",
              "    .colab-df-convert:hover {\n",
              "      background-color: #E2EBFA;\n",
              "      box-shadow: 0px 1px 2px rgba(60, 64, 67, 0.3), 0px 1px 3px 1px rgba(60, 64, 67, 0.15);\n",
              "      fill: #174EA6;\n",
              "    }\n",
              "\n",
              "    [theme=dark] .colab-df-convert {\n",
              "      background-color: #3B4455;\n",
              "      fill: #D2E3FC;\n",
              "    }\n",
              "\n",
              "    [theme=dark] .colab-df-convert:hover {\n",
              "      background-color: #434B5C;\n",
              "      box-shadow: 0px 1px 3px 1px rgba(0, 0, 0, 0.15);\n",
              "      filter: drop-shadow(0px 1px 2px rgba(0, 0, 0, 0.3));\n",
              "      fill: #FFFFFF;\n",
              "    }\n",
              "  </style>\n",
              "\n",
              "      <script>\n",
              "        const buttonEl =\n",
              "          document.querySelector('#df-0c00f72b-ec24-4200-a007-402b2ab5df30 button.colab-df-convert');\n",
              "        buttonEl.style.display =\n",
              "          google.colab.kernel.accessAllowed ? 'block' : 'none';\n",
              "\n",
              "        async function convertToInteractive(key) {\n",
              "          const element = document.querySelector('#df-0c00f72b-ec24-4200-a007-402b2ab5df30');\n",
              "          const dataTable =\n",
              "            await google.colab.kernel.invokeFunction('convertToInteractive',\n",
              "                                                     [key], {});\n",
              "          if (!dataTable) return;\n",
              "\n",
              "          const docLinkHtml = 'Like what you see? Visit the ' +\n",
              "            '<a target=\"_blank\" href=https://colab.research.google.com/notebooks/data_table.ipynb>data table notebook</a>'\n",
              "            + ' to learn more about interactive tables.';\n",
              "          element.innerHTML = '';\n",
              "          dataTable['output_type'] = 'display_data';\n",
              "          await google.colab.output.renderOutput(dataTable, element);\n",
              "          const docLink = document.createElement('div');\n",
              "          docLink.innerHTML = docLinkHtml;\n",
              "          element.appendChild(docLink);\n",
              "        }\n",
              "      </script>\n",
              "    </div>\n",
              "  </div>\n"
            ]
          },
          "metadata": {},
          "execution_count": 58
        }
      ]
    },
    {
      "cell_type": "code",
      "source": [
        "df.to_csv('AAPL.csv')"
      ],
      "metadata": {
        "id": "kjGRrM10vgGV"
      },
      "execution_count": 59,
      "outputs": []
    },
    {
      "cell_type": "code",
      "source": [
        "import pandas as pd\n",
        "apple = pd.read_csv('AAPL.csv')\n",
        "apple.head()"
      ],
      "metadata": {
        "colab": {
          "base_uri": "https://localhost:8080/",
          "height": 337
        },
        "id": "UTDv8eOfvqyc",
        "outputId": "6f6cd7f9-9ced-49b2-efff-ff3f675021d6"
      },
      "execution_count": 60,
      "outputs": [
        {
          "output_type": "execute_result",
          "data": {
            "text/plain": [
              "  symbol                       date   close    high     low    open    volume  \\\n",
              "0   AAPL  2018-08-01 00:00:00+00:00  201.50  201.76  197.31  199.13  67935716   \n",
              "1   AAPL  2018-08-02 00:00:00+00:00  207.39  208.38  200.35  200.58  62404012   \n",
              "2   AAPL  2018-08-03 00:00:00+00:00  207.99  208.74  205.48  207.03  33447396   \n",
              "3   AAPL  2018-08-06 00:00:00+00:00  209.07  209.25  207.07  208.00  25425387   \n",
              "4   AAPL  2018-08-07 00:00:00+00:00  207.11  209.50  206.76  209.32  25587387   \n",
              "\n",
              "    adjClose    adjHigh     adjLow    adjOpen  adjVolume  divCash  splitFactor  \n",
              "0  48.138087  48.200200  47.137101  47.571897  271742864      0.0          1.0  \n",
              "1  49.545200  49.781710  47.863353  47.918300  249616048      0.0          1.0  \n",
              "2  49.688539  49.867713  49.088903  49.459196  133789584      0.0          1.0  \n",
              "3  49.946550  49.989551  49.468752  49.690928  101701548      0.0          1.0  \n",
              "4  49.478308  50.049276  49.394694  50.006274  102349548      0.0          1.0  "
            ],
            "text/html": [
              "\n",
              "\n",
              "  <div id=\"df-3630be81-8f2e-4242-b0fb-5886a7ad4e71\">\n",
              "    <div class=\"colab-df-container\">\n",
              "      <div>\n",
              "<style scoped>\n",
              "    .dataframe tbody tr th:only-of-type {\n",
              "        vertical-align: middle;\n",
              "    }\n",
              "\n",
              "    .dataframe tbody tr th {\n",
              "        vertical-align: top;\n",
              "    }\n",
              "\n",
              "    .dataframe thead th {\n",
              "        text-align: right;\n",
              "    }\n",
              "</style>\n",
              "<table border=\"1\" class=\"dataframe\">\n",
              "  <thead>\n",
              "    <tr style=\"text-align: right;\">\n",
              "      <th></th>\n",
              "      <th>symbol</th>\n",
              "      <th>date</th>\n",
              "      <th>close</th>\n",
              "      <th>high</th>\n",
              "      <th>low</th>\n",
              "      <th>open</th>\n",
              "      <th>volume</th>\n",
              "      <th>adjClose</th>\n",
              "      <th>adjHigh</th>\n",
              "      <th>adjLow</th>\n",
              "      <th>adjOpen</th>\n",
              "      <th>adjVolume</th>\n",
              "      <th>divCash</th>\n",
              "      <th>splitFactor</th>\n",
              "    </tr>\n",
              "  </thead>\n",
              "  <tbody>\n",
              "    <tr>\n",
              "      <th>0</th>\n",
              "      <td>AAPL</td>\n",
              "      <td>2018-08-01 00:00:00+00:00</td>\n",
              "      <td>201.50</td>\n",
              "      <td>201.76</td>\n",
              "      <td>197.31</td>\n",
              "      <td>199.13</td>\n",
              "      <td>67935716</td>\n",
              "      <td>48.138087</td>\n",
              "      <td>48.200200</td>\n",
              "      <td>47.137101</td>\n",
              "      <td>47.571897</td>\n",
              "      <td>271742864</td>\n",
              "      <td>0.0</td>\n",
              "      <td>1.0</td>\n",
              "    </tr>\n",
              "    <tr>\n",
              "      <th>1</th>\n",
              "      <td>AAPL</td>\n",
              "      <td>2018-08-02 00:00:00+00:00</td>\n",
              "      <td>207.39</td>\n",
              "      <td>208.38</td>\n",
              "      <td>200.35</td>\n",
              "      <td>200.58</td>\n",
              "      <td>62404012</td>\n",
              "      <td>49.545200</td>\n",
              "      <td>49.781710</td>\n",
              "      <td>47.863353</td>\n",
              "      <td>47.918300</td>\n",
              "      <td>249616048</td>\n",
              "      <td>0.0</td>\n",
              "      <td>1.0</td>\n",
              "    </tr>\n",
              "    <tr>\n",
              "      <th>2</th>\n",
              "      <td>AAPL</td>\n",
              "      <td>2018-08-03 00:00:00+00:00</td>\n",
              "      <td>207.99</td>\n",
              "      <td>208.74</td>\n",
              "      <td>205.48</td>\n",
              "      <td>207.03</td>\n",
              "      <td>33447396</td>\n",
              "      <td>49.688539</td>\n",
              "      <td>49.867713</td>\n",
              "      <td>49.088903</td>\n",
              "      <td>49.459196</td>\n",
              "      <td>133789584</td>\n",
              "      <td>0.0</td>\n",
              "      <td>1.0</td>\n",
              "    </tr>\n",
              "    <tr>\n",
              "      <th>3</th>\n",
              "      <td>AAPL</td>\n",
              "      <td>2018-08-06 00:00:00+00:00</td>\n",
              "      <td>209.07</td>\n",
              "      <td>209.25</td>\n",
              "      <td>207.07</td>\n",
              "      <td>208.00</td>\n",
              "      <td>25425387</td>\n",
              "      <td>49.946550</td>\n",
              "      <td>49.989551</td>\n",
              "      <td>49.468752</td>\n",
              "      <td>49.690928</td>\n",
              "      <td>101701548</td>\n",
              "      <td>0.0</td>\n",
              "      <td>1.0</td>\n",
              "    </tr>\n",
              "    <tr>\n",
              "      <th>4</th>\n",
              "      <td>AAPL</td>\n",
              "      <td>2018-08-07 00:00:00+00:00</td>\n",
              "      <td>207.11</td>\n",
              "      <td>209.50</td>\n",
              "      <td>206.76</td>\n",
              "      <td>209.32</td>\n",
              "      <td>25587387</td>\n",
              "      <td>49.478308</td>\n",
              "      <td>50.049276</td>\n",
              "      <td>49.394694</td>\n",
              "      <td>50.006274</td>\n",
              "      <td>102349548</td>\n",
              "      <td>0.0</td>\n",
              "      <td>1.0</td>\n",
              "    </tr>\n",
              "  </tbody>\n",
              "</table>\n",
              "</div>\n",
              "      <button class=\"colab-df-convert\" onclick=\"convertToInteractive('df-3630be81-8f2e-4242-b0fb-5886a7ad4e71')\"\n",
              "              title=\"Convert this dataframe to an interactive table.\"\n",
              "              style=\"display:none;\">\n",
              "\n",
              "  <svg xmlns=\"http://www.w3.org/2000/svg\" height=\"24px\"viewBox=\"0 0 24 24\"\n",
              "       width=\"24px\">\n",
              "    <path d=\"M0 0h24v24H0V0z\" fill=\"none\"/>\n",
              "    <path d=\"M18.56 5.44l.94 2.06.94-2.06 2.06-.94-2.06-.94-.94-2.06-.94 2.06-2.06.94zm-11 1L8.5 8.5l.94-2.06 2.06-.94-2.06-.94L8.5 2.5l-.94 2.06-2.06.94zm10 10l.94 2.06.94-2.06 2.06-.94-2.06-.94-.94-2.06-.94 2.06-2.06.94z\"/><path d=\"M17.41 7.96l-1.37-1.37c-.4-.4-.92-.59-1.43-.59-.52 0-1.04.2-1.43.59L10.3 9.45l-7.72 7.72c-.78.78-.78 2.05 0 2.83L4 21.41c.39.39.9.59 1.41.59.51 0 1.02-.2 1.41-.59l7.78-7.78 2.81-2.81c.8-.78.8-2.07 0-2.86zM5.41 20L4 18.59l7.72-7.72 1.47 1.35L5.41 20z\"/>\n",
              "  </svg>\n",
              "      </button>\n",
              "\n",
              "\n",
              "\n",
              "    <div id=\"df-11957a0e-b63b-49ea-b525-55d443ddd1bc\">\n",
              "      <button class=\"colab-df-quickchart\" onclick=\"quickchart('df-11957a0e-b63b-49ea-b525-55d443ddd1bc')\"\n",
              "              title=\"Suggest charts.\"\n",
              "              style=\"display:none;\">\n",
              "\n",
              "<svg xmlns=\"http://www.w3.org/2000/svg\" height=\"24px\"viewBox=\"0 0 24 24\"\n",
              "     width=\"24px\">\n",
              "    <g>\n",
              "        <path d=\"M19 3H5c-1.1 0-2 .9-2 2v14c0 1.1.9 2 2 2h14c1.1 0 2-.9 2-2V5c0-1.1-.9-2-2-2zM9 17H7v-7h2v7zm4 0h-2V7h2v10zm4 0h-2v-4h2v4z\"/>\n",
              "    </g>\n",
              "</svg>\n",
              "      </button>\n",
              "    </div>\n",
              "\n",
              "<style>\n",
              "  .colab-df-quickchart {\n",
              "    background-color: #E8F0FE;\n",
              "    border: none;\n",
              "    border-radius: 50%;\n",
              "    cursor: pointer;\n",
              "    display: none;\n",
              "    fill: #1967D2;\n",
              "    height: 32px;\n",
              "    padding: 0 0 0 0;\n",
              "    width: 32px;\n",
              "  }\n",
              "\n",
              "  .colab-df-quickchart:hover {\n",
              "    background-color: #E2EBFA;\n",
              "    box-shadow: 0px 1px 2px rgba(60, 64, 67, 0.3), 0px 1px 3px 1px rgba(60, 64, 67, 0.15);\n",
              "    fill: #174EA6;\n",
              "  }\n",
              "\n",
              "  [theme=dark] .colab-df-quickchart {\n",
              "    background-color: #3B4455;\n",
              "    fill: #D2E3FC;\n",
              "  }\n",
              "\n",
              "  [theme=dark] .colab-df-quickchart:hover {\n",
              "    background-color: #434B5C;\n",
              "    box-shadow: 0px 1px 3px 1px rgba(0, 0, 0, 0.15);\n",
              "    filter: drop-shadow(0px 1px 2px rgba(0, 0, 0, 0.3));\n",
              "    fill: #FFFFFF;\n",
              "  }\n",
              "</style>\n",
              "\n",
              "    <script>\n",
              "      async function quickchart(key) {\n",
              "        const containerElement = document.querySelector('#' + key);\n",
              "        const charts = await google.colab.kernel.invokeFunction(\n",
              "            'suggestCharts', [key], {});\n",
              "      }\n",
              "    </script>\n",
              "\n",
              "      <script>\n",
              "\n",
              "function displayQuickchartButton(domScope) {\n",
              "  let quickchartButtonEl =\n",
              "    domScope.querySelector('#df-11957a0e-b63b-49ea-b525-55d443ddd1bc button.colab-df-quickchart');\n",
              "  quickchartButtonEl.style.display =\n",
              "    google.colab.kernel.accessAllowed ? 'block' : 'none';\n",
              "}\n",
              "\n",
              "        displayQuickchartButton(document);\n",
              "      </script>\n",
              "      <style>\n",
              "    .colab-df-container {\n",
              "      display:flex;\n",
              "      flex-wrap:wrap;\n",
              "      gap: 12px;\n",
              "    }\n",
              "\n",
              "    .colab-df-convert {\n",
              "      background-color: #E8F0FE;\n",
              "      border: none;\n",
              "      border-radius: 50%;\n",
              "      cursor: pointer;\n",
              "      display: none;\n",
              "      fill: #1967D2;\n",
              "      height: 32px;\n",
              "      padding: 0 0 0 0;\n",
              "      width: 32px;\n",
              "    }\n",
              "\n",
              "    .colab-df-convert:hover {\n",
              "      background-color: #E2EBFA;\n",
              "      box-shadow: 0px 1px 2px rgba(60, 64, 67, 0.3), 0px 1px 3px 1px rgba(60, 64, 67, 0.15);\n",
              "      fill: #174EA6;\n",
              "    }\n",
              "\n",
              "    [theme=dark] .colab-df-convert {\n",
              "      background-color: #3B4455;\n",
              "      fill: #D2E3FC;\n",
              "    }\n",
              "\n",
              "    [theme=dark] .colab-df-convert:hover {\n",
              "      background-color: #434B5C;\n",
              "      box-shadow: 0px 1px 3px 1px rgba(0, 0, 0, 0.15);\n",
              "      filter: drop-shadow(0px 1px 2px rgba(0, 0, 0, 0.3));\n",
              "      fill: #FFFFFF;\n",
              "    }\n",
              "  </style>\n",
              "\n",
              "      <script>\n",
              "        const buttonEl =\n",
              "          document.querySelector('#df-3630be81-8f2e-4242-b0fb-5886a7ad4e71 button.colab-df-convert');\n",
              "        buttonEl.style.display =\n",
              "          google.colab.kernel.accessAllowed ? 'block' : 'none';\n",
              "\n",
              "        async function convertToInteractive(key) {\n",
              "          const element = document.querySelector('#df-3630be81-8f2e-4242-b0fb-5886a7ad4e71');\n",
              "          const dataTable =\n",
              "            await google.colab.kernel.invokeFunction('convertToInteractive',\n",
              "                                                     [key], {});\n",
              "          if (!dataTable) return;\n",
              "\n",
              "          const docLinkHtml = 'Like what you see? Visit the ' +\n",
              "            '<a target=\"_blank\" href=https://colab.research.google.com/notebooks/data_table.ipynb>data table notebook</a>'\n",
              "            + ' to learn more about interactive tables.';\n",
              "          element.innerHTML = '';\n",
              "          dataTable['output_type'] = 'display_data';\n",
              "          await google.colab.output.renderOutput(dataTable, element);\n",
              "          const docLink = document.createElement('div');\n",
              "          docLink.innerHTML = docLinkHtml;\n",
              "          element.appendChild(docLink);\n",
              "        }\n",
              "      </script>\n",
              "    </div>\n",
              "  </div>\n"
            ]
          },
          "metadata": {},
          "execution_count": 60
        }
      ]
    },
    {
      "cell_type": "code",
      "source": [
        "apple.tail()"
      ],
      "metadata": {
        "colab": {
          "base_uri": "https://localhost:8080/",
          "height": 337
        },
        "id": "hBnk9aLkv8wz",
        "outputId": "dc7ece8a-6032-4122-bc62-2d7f35444c43"
      },
      "execution_count": 61,
      "outputs": [
        {
          "output_type": "execute_result",
          "data": {
            "text/plain": [
              "     symbol                       date   close     high      low    open  \\\n",
              "1251   AAPL  2023-07-24 00:00:00+00:00  192.75  194.910  192.250  193.41   \n",
              "1252   AAPL  2023-07-25 00:00:00+00:00  193.62  194.440  192.915  193.33   \n",
              "1253   AAPL  2023-07-26 00:00:00+00:00  194.50  195.640  193.320  193.67   \n",
              "1254   AAPL  2023-07-27 00:00:00+00:00  193.22  197.200  192.550  196.02   \n",
              "1255   AAPL  2023-07-28 00:00:00+00:00  195.83  196.626  194.140  194.67   \n",
              "\n",
              "        volume  adjClose  adjHigh   adjLow  adjOpen  adjVolume  divCash  \\\n",
              "1251  45505097    192.75  194.910  192.250   193.41   45505097      0.0   \n",
              "1252  37283201    193.62  194.440  192.915   193.33   37283201      0.0   \n",
              "1253  47471868    194.50  195.640  193.320   193.67   47471868      0.0   \n",
              "1254  47460180    193.22  197.200  192.550   196.02   47460180      0.0   \n",
              "1255  48291443    195.83  196.626  194.140   194.67   48291443      0.0   \n",
              "\n",
              "      splitFactor  \n",
              "1251          1.0  \n",
              "1252          1.0  \n",
              "1253          1.0  \n",
              "1254          1.0  \n",
              "1255          1.0  "
            ],
            "text/html": [
              "\n",
              "\n",
              "  <div id=\"df-cb9afb81-454c-42d0-91c8-4f992590bbb1\">\n",
              "    <div class=\"colab-df-container\">\n",
              "      <div>\n",
              "<style scoped>\n",
              "    .dataframe tbody tr th:only-of-type {\n",
              "        vertical-align: middle;\n",
              "    }\n",
              "\n",
              "    .dataframe tbody tr th {\n",
              "        vertical-align: top;\n",
              "    }\n",
              "\n",
              "    .dataframe thead th {\n",
              "        text-align: right;\n",
              "    }\n",
              "</style>\n",
              "<table border=\"1\" class=\"dataframe\">\n",
              "  <thead>\n",
              "    <tr style=\"text-align: right;\">\n",
              "      <th></th>\n",
              "      <th>symbol</th>\n",
              "      <th>date</th>\n",
              "      <th>close</th>\n",
              "      <th>high</th>\n",
              "      <th>low</th>\n",
              "      <th>open</th>\n",
              "      <th>volume</th>\n",
              "      <th>adjClose</th>\n",
              "      <th>adjHigh</th>\n",
              "      <th>adjLow</th>\n",
              "      <th>adjOpen</th>\n",
              "      <th>adjVolume</th>\n",
              "      <th>divCash</th>\n",
              "      <th>splitFactor</th>\n",
              "    </tr>\n",
              "  </thead>\n",
              "  <tbody>\n",
              "    <tr>\n",
              "      <th>1251</th>\n",
              "      <td>AAPL</td>\n",
              "      <td>2023-07-24 00:00:00+00:00</td>\n",
              "      <td>192.75</td>\n",
              "      <td>194.910</td>\n",
              "      <td>192.250</td>\n",
              "      <td>193.41</td>\n",
              "      <td>45505097</td>\n",
              "      <td>192.75</td>\n",
              "      <td>194.910</td>\n",
              "      <td>192.250</td>\n",
              "      <td>193.41</td>\n",
              "      <td>45505097</td>\n",
              "      <td>0.0</td>\n",
              "      <td>1.0</td>\n",
              "    </tr>\n",
              "    <tr>\n",
              "      <th>1252</th>\n",
              "      <td>AAPL</td>\n",
              "      <td>2023-07-25 00:00:00+00:00</td>\n",
              "      <td>193.62</td>\n",
              "      <td>194.440</td>\n",
              "      <td>192.915</td>\n",
              "      <td>193.33</td>\n",
              "      <td>37283201</td>\n",
              "      <td>193.62</td>\n",
              "      <td>194.440</td>\n",
              "      <td>192.915</td>\n",
              "      <td>193.33</td>\n",
              "      <td>37283201</td>\n",
              "      <td>0.0</td>\n",
              "      <td>1.0</td>\n",
              "    </tr>\n",
              "    <tr>\n",
              "      <th>1253</th>\n",
              "      <td>AAPL</td>\n",
              "      <td>2023-07-26 00:00:00+00:00</td>\n",
              "      <td>194.50</td>\n",
              "      <td>195.640</td>\n",
              "      <td>193.320</td>\n",
              "      <td>193.67</td>\n",
              "      <td>47471868</td>\n",
              "      <td>194.50</td>\n",
              "      <td>195.640</td>\n",
              "      <td>193.320</td>\n",
              "      <td>193.67</td>\n",
              "      <td>47471868</td>\n",
              "      <td>0.0</td>\n",
              "      <td>1.0</td>\n",
              "    </tr>\n",
              "    <tr>\n",
              "      <th>1254</th>\n",
              "      <td>AAPL</td>\n",
              "      <td>2023-07-27 00:00:00+00:00</td>\n",
              "      <td>193.22</td>\n",
              "      <td>197.200</td>\n",
              "      <td>192.550</td>\n",
              "      <td>196.02</td>\n",
              "      <td>47460180</td>\n",
              "      <td>193.22</td>\n",
              "      <td>197.200</td>\n",
              "      <td>192.550</td>\n",
              "      <td>196.02</td>\n",
              "      <td>47460180</td>\n",
              "      <td>0.0</td>\n",
              "      <td>1.0</td>\n",
              "    </tr>\n",
              "    <tr>\n",
              "      <th>1255</th>\n",
              "      <td>AAPL</td>\n",
              "      <td>2023-07-28 00:00:00+00:00</td>\n",
              "      <td>195.83</td>\n",
              "      <td>196.626</td>\n",
              "      <td>194.140</td>\n",
              "      <td>194.67</td>\n",
              "      <td>48291443</td>\n",
              "      <td>195.83</td>\n",
              "      <td>196.626</td>\n",
              "      <td>194.140</td>\n",
              "      <td>194.67</td>\n",
              "      <td>48291443</td>\n",
              "      <td>0.0</td>\n",
              "      <td>1.0</td>\n",
              "    </tr>\n",
              "  </tbody>\n",
              "</table>\n",
              "</div>\n",
              "      <button class=\"colab-df-convert\" onclick=\"convertToInteractive('df-cb9afb81-454c-42d0-91c8-4f992590bbb1')\"\n",
              "              title=\"Convert this dataframe to an interactive table.\"\n",
              "              style=\"display:none;\">\n",
              "\n",
              "  <svg xmlns=\"http://www.w3.org/2000/svg\" height=\"24px\"viewBox=\"0 0 24 24\"\n",
              "       width=\"24px\">\n",
              "    <path d=\"M0 0h24v24H0V0z\" fill=\"none\"/>\n",
              "    <path d=\"M18.56 5.44l.94 2.06.94-2.06 2.06-.94-2.06-.94-.94-2.06-.94 2.06-2.06.94zm-11 1L8.5 8.5l.94-2.06 2.06-.94-2.06-.94L8.5 2.5l-.94 2.06-2.06.94zm10 10l.94 2.06.94-2.06 2.06-.94-2.06-.94-.94-2.06-.94 2.06-2.06.94z\"/><path d=\"M17.41 7.96l-1.37-1.37c-.4-.4-.92-.59-1.43-.59-.52 0-1.04.2-1.43.59L10.3 9.45l-7.72 7.72c-.78.78-.78 2.05 0 2.83L4 21.41c.39.39.9.59 1.41.59.51 0 1.02-.2 1.41-.59l7.78-7.78 2.81-2.81c.8-.78.8-2.07 0-2.86zM5.41 20L4 18.59l7.72-7.72 1.47 1.35L5.41 20z\"/>\n",
              "  </svg>\n",
              "      </button>\n",
              "\n",
              "\n",
              "\n",
              "    <div id=\"df-7822444b-b258-4510-85ea-aae9bbe82e40\">\n",
              "      <button class=\"colab-df-quickchart\" onclick=\"quickchart('df-7822444b-b258-4510-85ea-aae9bbe82e40')\"\n",
              "              title=\"Suggest charts.\"\n",
              "              style=\"display:none;\">\n",
              "\n",
              "<svg xmlns=\"http://www.w3.org/2000/svg\" height=\"24px\"viewBox=\"0 0 24 24\"\n",
              "     width=\"24px\">\n",
              "    <g>\n",
              "        <path d=\"M19 3H5c-1.1 0-2 .9-2 2v14c0 1.1.9 2 2 2h14c1.1 0 2-.9 2-2V5c0-1.1-.9-2-2-2zM9 17H7v-7h2v7zm4 0h-2V7h2v10zm4 0h-2v-4h2v4z\"/>\n",
              "    </g>\n",
              "</svg>\n",
              "      </button>\n",
              "    </div>\n",
              "\n",
              "<style>\n",
              "  .colab-df-quickchart {\n",
              "    background-color: #E8F0FE;\n",
              "    border: none;\n",
              "    border-radius: 50%;\n",
              "    cursor: pointer;\n",
              "    display: none;\n",
              "    fill: #1967D2;\n",
              "    height: 32px;\n",
              "    padding: 0 0 0 0;\n",
              "    width: 32px;\n",
              "  }\n",
              "\n",
              "  .colab-df-quickchart:hover {\n",
              "    background-color: #E2EBFA;\n",
              "    box-shadow: 0px 1px 2px rgba(60, 64, 67, 0.3), 0px 1px 3px 1px rgba(60, 64, 67, 0.15);\n",
              "    fill: #174EA6;\n",
              "  }\n",
              "\n",
              "  [theme=dark] .colab-df-quickchart {\n",
              "    background-color: #3B4455;\n",
              "    fill: #D2E3FC;\n",
              "  }\n",
              "\n",
              "  [theme=dark] .colab-df-quickchart:hover {\n",
              "    background-color: #434B5C;\n",
              "    box-shadow: 0px 1px 3px 1px rgba(0, 0, 0, 0.15);\n",
              "    filter: drop-shadow(0px 1px 2px rgba(0, 0, 0, 0.3));\n",
              "    fill: #FFFFFF;\n",
              "  }\n",
              "</style>\n",
              "\n",
              "    <script>\n",
              "      async function quickchart(key) {\n",
              "        const containerElement = document.querySelector('#' + key);\n",
              "        const charts = await google.colab.kernel.invokeFunction(\n",
              "            'suggestCharts', [key], {});\n",
              "      }\n",
              "    </script>\n",
              "\n",
              "      <script>\n",
              "\n",
              "function displayQuickchartButton(domScope) {\n",
              "  let quickchartButtonEl =\n",
              "    domScope.querySelector('#df-7822444b-b258-4510-85ea-aae9bbe82e40 button.colab-df-quickchart');\n",
              "  quickchartButtonEl.style.display =\n",
              "    google.colab.kernel.accessAllowed ? 'block' : 'none';\n",
              "}\n",
              "\n",
              "        displayQuickchartButton(document);\n",
              "      </script>\n",
              "      <style>\n",
              "    .colab-df-container {\n",
              "      display:flex;\n",
              "      flex-wrap:wrap;\n",
              "      gap: 12px;\n",
              "    }\n",
              "\n",
              "    .colab-df-convert {\n",
              "      background-color: #E8F0FE;\n",
              "      border: none;\n",
              "      border-radius: 50%;\n",
              "      cursor: pointer;\n",
              "      display: none;\n",
              "      fill: #1967D2;\n",
              "      height: 32px;\n",
              "      padding: 0 0 0 0;\n",
              "      width: 32px;\n",
              "    }\n",
              "\n",
              "    .colab-df-convert:hover {\n",
              "      background-color: #E2EBFA;\n",
              "      box-shadow: 0px 1px 2px rgba(60, 64, 67, 0.3), 0px 1px 3px 1px rgba(60, 64, 67, 0.15);\n",
              "      fill: #174EA6;\n",
              "    }\n",
              "\n",
              "    [theme=dark] .colab-df-convert {\n",
              "      background-color: #3B4455;\n",
              "      fill: #D2E3FC;\n",
              "    }\n",
              "\n",
              "    [theme=dark] .colab-df-convert:hover {\n",
              "      background-color: #434B5C;\n",
              "      box-shadow: 0px 1px 3px 1px rgba(0, 0, 0, 0.15);\n",
              "      filter: drop-shadow(0px 1px 2px rgba(0, 0, 0, 0.3));\n",
              "      fill: #FFFFFF;\n",
              "    }\n",
              "  </style>\n",
              "\n",
              "      <script>\n",
              "        const buttonEl =\n",
              "          document.querySelector('#df-cb9afb81-454c-42d0-91c8-4f992590bbb1 button.colab-df-convert');\n",
              "        buttonEl.style.display =\n",
              "          google.colab.kernel.accessAllowed ? 'block' : 'none';\n",
              "\n",
              "        async function convertToInteractive(key) {\n",
              "          const element = document.querySelector('#df-cb9afb81-454c-42d0-91c8-4f992590bbb1');\n",
              "          const dataTable =\n",
              "            await google.colab.kernel.invokeFunction('convertToInteractive',\n",
              "                                                     [key], {});\n",
              "          if (!dataTable) return;\n",
              "\n",
              "          const docLinkHtml = 'Like what you see? Visit the ' +\n",
              "            '<a target=\"_blank\" href=https://colab.research.google.com/notebooks/data_table.ipynb>data table notebook</a>'\n",
              "            + ' to learn more about interactive tables.';\n",
              "          element.innerHTML = '';\n",
              "          dataTable['output_type'] = 'display_data';\n",
              "          await google.colab.output.renderOutput(dataTable, element);\n",
              "          const docLink = document.createElement('div');\n",
              "          docLink.innerHTML = docLinkHtml;\n",
              "          element.appendChild(docLink);\n",
              "        }\n",
              "      </script>\n",
              "    </div>\n",
              "  </div>\n"
            ]
          },
          "metadata": {},
          "execution_count": 61
        }
      ]
    },
    {
      "cell_type": "code",
      "source": [
        "df2 = apple.reset_index()['close']#change index to close"
      ],
      "metadata": {
        "id": "Ojc8JPAiwOBj"
      },
      "execution_count": 62,
      "outputs": []
    },
    {
      "cell_type": "code",
      "source": [
        "df2.shape"
      ],
      "metadata": {
        "colab": {
          "base_uri": "https://localhost:8080/"
        },
        "id": "1wKPzyK1wWdC",
        "outputId": "72c50ec5-035a-492e-a967-8a6b597c1633"
      },
      "execution_count": 63,
      "outputs": [
        {
          "output_type": "execute_result",
          "data": {
            "text/plain": [
              "(1256,)"
            ]
          },
          "metadata": {},
          "execution_count": 63
        }
      ]
    },
    {
      "cell_type": "code",
      "source": [
        "df2.isnull().sum()"
      ],
      "metadata": {
        "colab": {
          "base_uri": "https://localhost:8080/"
        },
        "id": "Uilk0kVOwmkN",
        "outputId": "34731415-8889-4a97-a0c2-7917985155c8"
      },
      "execution_count": 64,
      "outputs": [
        {
          "output_type": "execute_result",
          "data": {
            "text/plain": [
              "0"
            ]
          },
          "metadata": {},
          "execution_count": 64
        }
      ]
    },
    {
      "cell_type": "code",
      "source": [
        "plt.plot(df2)"
      ],
      "metadata": {
        "colab": {
          "base_uri": "https://localhost:8080/",
          "height": 447
        },
        "id": "SatF7ePvwrIy",
        "outputId": "77efaa80-d6e6-46d1-b683-34cf8702a9fa"
      },
      "execution_count": 65,
      "outputs": [
        {
          "output_type": "execute_result",
          "data": {
            "text/plain": [
              "[<matplotlib.lines.Line2D at 0x79e483ebd390>]"
            ]
          },
          "metadata": {},
          "execution_count": 65
        },
        {
          "output_type": "display_data",
          "data": {
            "text/plain": [
              "<Figure size 640x480 with 1 Axes>"
            ],
            "image/png": "[encoded data removed]"
          },
          "metadata": {}
        }
      ]
    },
    {
      "cell_type": "code",
      "source": [
        "df2"
      ],
      "metadata": {
        "colab": {
          "base_uri": "https://localhost:8080/"
        },
        "id": "G4Z7wuEryp5t",
        "outputId": "737a6fea-0807-40c6-d55d-c54ad794905e"
      },
      "execution_count": 66,
      "outputs": [
        {
          "output_type": "execute_result",
          "data": {
            "text/plain": [
              "0       201.50\n",
              "1       207.39\n",
              "2       207.99\n",
              "3       209.07\n",
              "4       207.11\n",
              "         ...  \n",
              "1251    192.75\n",
              "1252    193.62\n",
              "1253    194.50\n",
              "1254    193.22\n",
              "1255    195.83\n",
              "Name: close, Length: 1256, dtype: float64"
            ]
          },
          "metadata": {},
          "execution_count": 66
        }
      ]
    },
    {
      "cell_type": "markdown",
      "source": [
        "Scaling Using MinMax Scalar()\n",
        "LSTM are Sensitive to scale of the data"
      ],
      "metadata": {
        "id": "ypPDaIMHxKSG"
      }
    },
    {
      "cell_type": "code",
      "source": [
        "from sklearn.preprocessing import MinMaxScaler\n",
        "sc = MinMaxScaler(feature_range=(0,1))#Scale in range of [0-1]\n",
        "df2 = sc.fit_transform(np.array(df2).reshape(-1,1))"
      ],
      "metadata": {
        "id": "f9dWibJWxeAU"
      },
      "execution_count": 67,
      "outputs": []
    },
    {
      "cell_type": "code",
      "source": [
        "df2"
      ],
      "metadata": {
        "colab": {
          "base_uri": "https://localhost:8080/"
        },
        "id": "AO5KoKRnyuai",
        "outputId": "bd7d9bc9-ca85-4578-95dc-036ba793685f"
      },
      "execution_count": 68,
      "outputs": [
        {
          "output_type": "execute_result",
          "data": {
            "text/plain": [
              "array([[0.23709455],\n",
              "       [0.25184721],\n",
              "       [0.25335003],\n",
              "       ...,\n",
              "       [0.21956168],\n",
              "       [0.21635567],\n",
              "       [0.22289292]])"
            ]
          },
          "metadata": {},
          "execution_count": 68
        }
      ]
    },
    {
      "cell_type": "code",
      "source": [],
      "metadata": {
        "id": "ty1eM4OryvpZ"
      },
      "execution_count": 68,
      "outputs": []
    },
    {
      "cell_type": "markdown",
      "source": [
        "Train Test Splitting"
      ],
      "metadata": {
        "id": "wA5yasfh0-BO"
      }
    },
    {
      "cell_type": "code",
      "source": [
        "tr_size = int(len(df2)*0.70)\n",
        "te_size = len(df2) - tr_size\n",
        "x,y = df2[0:tr_size,:],df2[tr_size:len(df2),:1]"
      ],
      "metadata": {
        "id": "UqjeGTsp1EYv"
      },
      "execution_count": 69,
      "outputs": []
    },
    {
      "cell_type": "code",
      "source": [
        "import numpy\n",
        "def cr_dataset(dataset , time_step = 1):\n",
        "  dataX , dataY = [],[]\n",
        "  for i in range(len(dataset)-time_step-1):\n",
        "    a = dataset[i:(i+time_step),0]\n",
        "    dataX.append(a)\n",
        "    dataY.append(dataset[i + time_step,0])\n",
        "  return numpy.array(dataX),numpy.array(dataY)"
      ],
      "metadata": {
        "id": "tu3JlkoM2Uzh"
      },
      "execution_count": 70,
      "outputs": []
    },
    {
      "cell_type": "code",
      "source": [
        "time_step = 100\n",
        "x_train,y_train = cr_dataset(x,time_step)\n",
        "x_test,y_test  = cr_dataset(y,time_step)"
      ],
      "metadata": {
        "id": "5US65rup51kz"
      },
      "execution_count": 71,
      "outputs": []
    },
    {
      "cell_type": "code",
      "source": [
        "x_train#per record contains 100 record"
      ],
      "metadata": {
        "colab": {
          "base_uri": "https://localhost:8080/"
        },
        "id": "EiGCPJT76eog",
        "outputId": "81d4a6a0-f0c1-4daf-c83e-79908b637fae"
      },
      "execution_count": 72,
      "outputs": [
        {
          "output_type": "execute_result",
          "data": {
            "text/plain": [
              "array([[0.23709455, 0.25184721, 0.25335003, ..., 0.13537884, 0.12520977,\n",
              "        0.10993112],\n",
              "       [0.25184721, 0.25335003, 0.2560551 , ..., 0.12520977, 0.10993112,\n",
              "        0.10016281],\n",
              "       [0.25335003, 0.2560551 , 0.2511459 , ..., 0.10993112, 0.10016281,\n",
              "        0.12606137],\n",
              "       ...,\n",
              "       [0.11591735, 0.11268629, 0.11438948, ..., 0.15769568, 0.14875391,\n",
              "        0.14444584],\n",
              "       [0.11268629, 0.11438948, 0.11724483, ..., 0.14875391, 0.14444584,\n",
              "        0.13918597],\n",
              "       [0.11438948, 0.11724483, 0.11887289, ..., 0.14444584, 0.13918597,\n",
              "        0.13720726]])"
            ]
          },
          "metadata": {},
          "execution_count": 72
        }
      ]
    },
    {
      "cell_type": "markdown",
      "source": [
        "Reshape input features for LSTM"
      ],
      "metadata": {
        "id": "Ax3MSIXz8eE9"
      }
    },
    {
      "cell_type": "code",
      "source": [
        "x_train = x_train.reshape(x_train.shape[0],x_train.shape[1],1)\n",
        "x_test = x_test.reshape(x_test.shape[0],x_test.shape[1],1)"
      ],
      "metadata": {
        "id": "dVPf-Q0d8DyM"
      },
      "execution_count": 73,
      "outputs": []
    },
    {
      "cell_type": "code",
      "source": [
        "import tensorflow as tf\n",
        "from tensorflow.keras.models import Sequential\n",
        "from tensorflow.keras.layers import Dense\n",
        "from tensorflow.keras.layers import LSTM"
      ],
      "metadata": {
        "id": "guJwqJPN9TnP"
      },
      "execution_count": 74,
      "outputs": []
    },
    {
      "cell_type": "code",
      "source": [
        "model = Sequential()\n",
        "model.add(LSTM(50,return_sequences= True,input_shape=(100,1)))\n",
        "model.add(LSTM(50,return_sequences=True))\n",
        "model.add(LSTM(50))\n",
        "model.add(Dense(1))\n",
        "model.compile(optimizer='adam',loss='binary_crossentropy',metrics=['accuracy'])"
      ],
      "metadata": {
        "id": "Nz0uwOOy9yXi"
      },
      "execution_count": 75,
      "outputs": []
    },
    {
      "cell_type": "code",
      "source": [
        "model.summary()"
      ],
      "metadata": {
        "colab": {
          "base_uri": "https://localhost:8080/"
        },
        "id": "R2JVHm95Bv4X",
        "outputId": "9a423873-30f7-4129-f654-847d7c459b8c"
      },
      "execution_count": 76,
      "outputs": [
        {
          "output_type": "stream",
          "name": "stdout",
          "text": [
            "Model: \"sequential_4\"\n",
            "_________________________________________________________________\n",
            " Layer (type)                Output Shape              Param #   \n",
            "=================================================================\n",
            " lstm_3 (LSTM)               (None, 100, 50)           10400     \n",
            "                                                                 \n",
            " lstm_4 (LSTM)               (None, 100, 50)           20200     \n",
            "                                                                 \n",
            " lstm_5 (LSTM)               (None, 50)                20200     \n",
            "                                                                 \n",
            " dense_1 (Dense)             (None, 1)                 51        \n",
            "                                                                 \n",
            "=================================================================\n",
            "Total params: 50,851\n",
            "Trainable params: 50,851\n",
            "Non-trainable params: 0\n",
            "_________________________________________________________________\n"
          ]
        }
      ]
    },
    {
      "cell_type": "code",
      "source": [
        "model.fit(x_train,y_train,validation_data=(x_test,y_test),batch_size=64,epochs=100,verbose = 1)"
      ],
      "metadata": {
        "colab": {
          "base_uri": "https://localhost:8080/"
        },
        "id": "a4DiKdmkB1DW",
        "outputId": "56dbdbca-ea05-4c6f-d645-f186b9f11afc"
      },
      "execution_count": 77,
      "outputs": [
        {
          "output_type": "stream",
          "name": "stdout",
          "text": [
            "Epoch 1/100\n",
            "13/13 [==============================] - 15s 377ms/step - loss: 0.5914 - accuracy: 0.0013 - val_loss: 0.4186 - val_accuracy: 0.0000e+00\n",
            "Epoch 2/100\n",
            "13/13 [==============================] - 3s 201ms/step - loss: 0.4849 - accuracy: 0.0013 - val_loss: 0.3791 - val_accuracy: 0.0000e+00\n",
            "Epoch 3/100\n",
            "13/13 [==============================] - 3s 203ms/step - loss: 0.4710 - accuracy: 0.0026 - val_loss: 0.3769 - val_accuracy: 0.0000e+00\n",
            "Epoch 4/100\n",
            "13/13 [==============================] - 3s 244ms/step - loss: 0.4638 - accuracy: 0.0026 - val_loss: 0.3780 - val_accuracy: 0.0000e+00\n",
            "Epoch 5/100\n",
            "13/13 [==============================] - 3s 232ms/step - loss: 0.4585 - accuracy: 0.0026 - val_loss: 0.3738 - val_accuracy: 0.0000e+00\n",
            "Epoch 6/100\n",
            "13/13 [==============================] - 3s 196ms/step - loss: 0.4552 - accuracy: 0.0026 - val_loss: 0.3734 - val_accuracy: 0.0000e+00\n",
            "Epoch 7/100\n",
            "13/13 [==============================] - 3s 203ms/step - loss: 0.4531 - accuracy: 0.0026 - val_loss: 0.3733 - val_accuracy: 0.0000e+00\n",
            "Epoch 8/100\n",
            "13/13 [==============================] - 3s 197ms/step - loss: 0.4519 - accuracy: 0.0026 - val_loss: 0.3733 - val_accuracy: 0.0000e+00\n",
            "Epoch 9/100\n",
            "13/13 [==============================] - 4s 295ms/step - loss: 0.4519 - accuracy: 0.0026 - val_loss: 0.3788 - val_accuracy: 0.0000e+00\n",
            "Epoch 10/100\n",
            "13/13 [==============================] - 3s 198ms/step - loss: 0.4540 - accuracy: 0.0026 - val_loss: 0.3740 - val_accuracy: 0.0000e+00\n",
            "Epoch 11/100\n",
            "13/13 [==============================] - 3s 199ms/step - loss: 0.4495 - accuracy: 0.0026 - val_loss: 0.3733 - val_accuracy: 0.0000e+00\n",
            "Epoch 12/100\n",
            "13/13 [==============================] - 3s 202ms/step - loss: 0.4476 - accuracy: 0.0026 - val_loss: 0.3732 - val_accuracy: 0.0000e+00\n",
            "Epoch 13/100\n",
            "13/13 [==============================] - 3s 248ms/step - loss: 0.4448 - accuracy: 0.0026 - val_loss: 0.3737 - val_accuracy: 0.0000e+00\n",
            "Epoch 14/100\n",
            "13/13 [==============================] - 3s 227ms/step - loss: 0.4458 - accuracy: 0.0026 - val_loss: 0.3731 - val_accuracy: 0.0000e+00\n",
            "Epoch 15/100\n",
            "13/13 [==============================] - 3s 207ms/step - loss: 0.4433 - accuracy: 0.0026 - val_loss: 0.3731 - val_accuracy: 0.0000e+00\n",
            "Epoch 16/100\n",
            "13/13 [==============================] - 3s 202ms/step - loss: 0.4424 - accuracy: 0.0026 - val_loss: 0.3730 - val_accuracy: 0.0000e+00\n",
            "Epoch 17/100\n",
            "13/13 [==============================] - 3s 206ms/step - loss: 0.4412 - accuracy: 0.0026 - val_loss: 0.3731 - val_accuracy: 0.0000e+00\n",
            "Epoch 18/100\n",
            "13/13 [==============================] - 4s 300ms/step - loss: 0.4425 - accuracy: 0.0026 - val_loss: 0.3730 - val_accuracy: 0.0000e+00\n",
            "Epoch 19/100\n",
            "13/13 [==============================] - 3s 204ms/step - loss: 0.4412 - accuracy: 0.0026 - val_loss: 0.3731 - val_accuracy: 0.0000e+00\n",
            "Epoch 20/100\n",
            "13/13 [==============================] - 3s 230ms/step - loss: 0.4403 - accuracy: 0.0026 - val_loss: 0.3731 - val_accuracy: 0.0000e+00\n",
            "Epoch 21/100\n",
            "13/13 [==============================] - 4s 305ms/step - loss: 0.4885 - accuracy: 0.0026 - val_loss: 0.3830 - val_accuracy: 0.0000e+00\n",
            "Epoch 22/100\n",
            "13/13 [==============================] - 3s 253ms/step - loss: 0.4900 - accuracy: 0.0013 - val_loss: 0.3765 - val_accuracy: 0.0000e+00\n",
            "Epoch 23/100\n",
            "13/13 [==============================] - 3s 200ms/step - loss: 0.4704 - accuracy: 0.0000e+00 - val_loss: 0.3756 - val_accuracy: 0.0000e+00\n",
            "Epoch 24/100\n",
            "13/13 [==============================] - 3s 202ms/step - loss: 0.4597 - accuracy: 0.0026 - val_loss: 0.3745 - val_accuracy: 0.0000e+00\n",
            "Epoch 25/100\n",
            "13/13 [==============================] - 3s 204ms/step - loss: 0.4573 - accuracy: 0.0026 - val_loss: 0.3740 - val_accuracy: 0.0000e+00\n",
            "Epoch 26/100\n",
            "13/13 [==============================] - 4s 338ms/step - loss: 0.4568 - accuracy: 0.0026 - val_loss: 0.3743 - val_accuracy: 0.0000e+00\n",
            "Epoch 27/100\n",
            "13/13 [==============================] - 4s 277ms/step - loss: 0.4551 - accuracy: 0.0026 - val_loss: 0.3739 - val_accuracy: 0.0000e+00\n",
            "Epoch 28/100\n",
            "13/13 [==============================] - 3s 205ms/step - loss: 0.4544 - accuracy: 0.0026 - val_loss: 0.3742 - val_accuracy: 0.0000e+00\n",
            "Epoch 29/100\n",
            "13/13 [==============================] - 3s 203ms/step - loss: 0.4531 - accuracy: 0.0026 - val_loss: 0.3741 - val_accuracy: 0.0000e+00\n",
            "Epoch 30/100\n",
            "13/13 [==============================] - 4s 299ms/step - loss: 0.4536 - accuracy: 0.0026 - val_loss: 0.3739 - val_accuracy: 0.0000e+00\n",
            "Epoch 31/100\n",
            "13/13 [==============================] - 3s 205ms/step - loss: 0.4553 - accuracy: 0.0026 - val_loss: 0.3815 - val_accuracy: 0.0000e+00\n",
            "Epoch 32/100\n",
            "13/13 [==============================] - 3s 200ms/step - loss: 0.4539 - accuracy: 0.0026 - val_loss: 0.3738 - val_accuracy: 0.0000e+00\n",
            "Epoch 33/100\n",
            "13/13 [==============================] - 3s 199ms/step - loss: 0.4511 - accuracy: 0.0026 - val_loss: 0.3738 - val_accuracy: 0.0000e+00\n",
            "Epoch 34/100\n",
            "13/13 [==============================] - 3s 275ms/step - loss: 0.4487 - accuracy: 0.0026 - val_loss: 0.3735 - val_accuracy: 0.0000e+00\n",
            "Epoch 35/100\n",
            "13/13 [==============================] - 3s 210ms/step - loss: 0.4481 - accuracy: 0.0026 - val_loss: 0.3753 - val_accuracy: 0.0000e+00\n",
            "Epoch 36/100\n",
            "13/13 [==============================] - 3s 197ms/step - loss: 0.4467 - accuracy: 0.0026 - val_loss: 0.3736 - val_accuracy: 0.0000e+00\n",
            "Epoch 37/100\n",
            "13/13 [==============================] - 3s 207ms/step - loss: 0.4457 - accuracy: 0.0026 - val_loss: 0.3734 - val_accuracy: 0.0000e+00\n",
            "Epoch 38/100\n",
            "13/13 [==============================] - 3s 232ms/step - loss: 0.4463 - accuracy: 0.0026 - val_loss: 0.3736 - val_accuracy: 0.0000e+00\n",
            "Epoch 39/100\n",
            "13/13 [==============================] - 3s 263ms/step - loss: 0.4445 - accuracy: 0.0026 - val_loss: 0.3742 - val_accuracy: 0.0000e+00\n",
            "Epoch 40/100\n",
            "13/13 [==============================] - 3s 199ms/step - loss: 0.4444 - accuracy: 0.0026 - val_loss: 0.3732 - val_accuracy: 0.0000e+00\n",
            "Epoch 41/100\n",
            "13/13 [==============================] - 3s 201ms/step - loss: 0.4431 - accuracy: 0.0026 - val_loss: 0.3733 - val_accuracy: 0.0000e+00\n",
            "Epoch 42/100\n",
            "13/13 [==============================] - 3s 200ms/step - loss: 0.4441 - accuracy: 0.0026 - val_loss: 0.3732 - val_accuracy: 0.0000e+00\n",
            "Epoch 43/100\n",
            "13/13 [==============================] - 4s 295ms/step - loss: 0.4421 - accuracy: 0.0026 - val_loss: 0.3731 - val_accuracy: 0.0000e+00\n",
            "Epoch 44/100\n",
            "13/13 [==============================] - 3s 200ms/step - loss: 0.4415 - accuracy: 0.0026 - val_loss: 0.3733 - val_accuracy: 0.0000e+00\n",
            "Epoch 45/100\n",
            "13/13 [==============================] - 5s 392ms/step - loss: 0.4419 - accuracy: 0.0026 - val_loss: 0.3731 - val_accuracy: 0.0000e+00\n",
            "Epoch 46/100\n",
            "13/13 [==============================] - 7s 504ms/step - loss: 0.4408 - accuracy: 0.0026 - val_loss: 0.3732 - val_accuracy: 0.0000e+00\n",
            "Epoch 47/100\n",
            "13/13 [==============================] - 5s 338ms/step - loss: 0.4407 - accuracy: 0.0026 - val_loss: 0.3732 - val_accuracy: 0.0000e+00\n",
            "Epoch 48/100\n",
            "13/13 [==============================] - 5s 358ms/step - loss: 0.4407 - accuracy: 0.0026 - val_loss: 0.3733 - val_accuracy: 0.0000e+00\n",
            "Epoch 49/100\n",
            "13/13 [==============================] - 3s 260ms/step - loss: 0.4533 - accuracy: 0.0026 - val_loss: 0.3733 - val_accuracy: 0.0000e+00\n",
            "Epoch 50/100\n",
            "13/13 [==============================] - 3s 206ms/step - loss: 0.4518 - accuracy: 0.0026 - val_loss: 0.3735 - val_accuracy: 0.0000e+00\n",
            "Epoch 51/100\n",
            "13/13 [==============================] - 4s 335ms/step - loss: 0.4471 - accuracy: 0.0026 - val_loss: 0.3736 - val_accuracy: 0.0000e+00\n",
            "Epoch 52/100\n",
            "13/13 [==============================] - 6s 496ms/step - loss: 0.4455 - accuracy: 0.0026 - val_loss: 0.3731 - val_accuracy: 0.0000e+00\n",
            "Epoch 53/100\n",
            "13/13 [==============================] - 6s 448ms/step - loss: 0.4425 - accuracy: 0.0026 - val_loss: 0.3731 - val_accuracy: 0.0000e+00\n",
            "Epoch 54/100\n",
            "13/13 [==============================] - 6s 509ms/step - loss: 0.4421 - accuracy: 0.0026 - val_loss: 0.3731 - val_accuracy: 0.0000e+00\n",
            "Epoch 55/100\n",
            "13/13 [==============================] - 4s 337ms/step - loss: 0.4402 - accuracy: 0.0026 - val_loss: 0.3730 - val_accuracy: 0.0000e+00\n",
            "Epoch 56/100\n",
            "13/13 [==============================] - 4s 355ms/step - loss: 0.4404 - accuracy: 0.0026 - val_loss: 0.3734 - val_accuracy: 0.0000e+00\n",
            "Epoch 57/100\n",
            "13/13 [==============================] - 5s 411ms/step - loss: 0.4415 - accuracy: 0.0026 - val_loss: 0.3731 - val_accuracy: 0.0000e+00\n",
            "Epoch 58/100\n",
            "13/13 [==============================] - 4s 283ms/step - loss: 0.4403 - accuracy: 0.0026 - val_loss: 0.3731 - val_accuracy: 0.0000e+00\n",
            "Epoch 59/100\n",
            "13/13 [==============================] - 3s 245ms/step - loss: 0.4396 - accuracy: 0.0026 - val_loss: 0.3730 - val_accuracy: 0.0000e+00\n",
            "Epoch 60/100\n",
            "13/13 [==============================] - 4s 308ms/step - loss: 0.4396 - accuracy: 0.0026 - val_loss: 0.3729 - val_accuracy: 0.0000e+00\n",
            "Epoch 61/100\n",
            "13/13 [==============================] - 4s 301ms/step - loss: 0.4391 - accuracy: 0.0026 - val_loss: 0.3728 - val_accuracy: 0.0000e+00\n",
            "Epoch 62/100\n",
            "13/13 [==============================] - 4s 288ms/step - loss: 0.4399 - accuracy: 0.0026 - val_loss: 0.3729 - val_accuracy: 0.0000e+00\n",
            "Epoch 63/100\n",
            "13/13 [==============================] - 5s 371ms/step - loss: 0.4400 - accuracy: 0.0026 - val_loss: 0.3730 - val_accuracy: 0.0000e+00\n",
            "Epoch 64/100\n",
            "13/13 [==============================] - 3s 228ms/step - loss: 0.4393 - accuracy: 0.0026 - val_loss: 0.3728 - val_accuracy: 0.0000e+00\n",
            "Epoch 65/100\n",
            "13/13 [==============================] - 4s 309ms/step - loss: 0.4391 - accuracy: 0.0026 - val_loss: 0.3728 - val_accuracy: 0.0000e+00\n",
            "Epoch 66/100\n",
            "13/13 [==============================] - 5s 409ms/step - loss: 0.4436 - accuracy: 0.0026 - val_loss: 0.3732 - val_accuracy: 0.0000e+00\n",
            "Epoch 67/100\n",
            "13/13 [==============================] - 4s 317ms/step - loss: 0.4409 - accuracy: 0.0013 - val_loss: 0.3735 - val_accuracy: 0.0000e+00\n",
            "Epoch 68/100\n",
            "13/13 [==============================] - 4s 310ms/step - loss: 0.4458 - accuracy: 0.0026 - val_loss: 0.3736 - val_accuracy: 0.0000e+00\n",
            "Epoch 69/100\n",
            "13/13 [==============================] - 4s 346ms/step - loss: 0.4397 - accuracy: 0.0026 - val_loss: 0.3731 - val_accuracy: 0.0000e+00\n",
            "Epoch 70/100\n",
            "13/13 [==============================] - 4s 306ms/step - loss: 0.4384 - accuracy: 0.0026 - val_loss: 0.3728 - val_accuracy: 0.0000e+00\n",
            "Epoch 71/100\n",
            "13/13 [==============================] - 3s 255ms/step - loss: 0.4380 - accuracy: 0.0026 - val_loss: 0.3728 - val_accuracy: 0.0000e+00\n",
            "Epoch 72/100\n",
            "13/13 [==============================] - 3s 199ms/step - loss: 0.4377 - accuracy: 0.0026 - val_loss: 0.3728 - val_accuracy: 0.0000e+00\n",
            "Epoch 73/100\n",
            "13/13 [==============================] - 5s 432ms/step - loss: 0.4381 - accuracy: 0.0026 - val_loss: 0.3729 - val_accuracy: 0.0000e+00\n",
            "Epoch 74/100\n",
            "13/13 [==============================] - 3s 206ms/step - loss: 0.4381 - accuracy: 0.0026 - val_loss: 0.3727 - val_accuracy: 0.0000e+00\n",
            "Epoch 75/100\n",
            "13/13 [==============================] - 3s 227ms/step - loss: 0.4392 - accuracy: 0.0026 - val_loss: 0.3729 - val_accuracy: 0.0000e+00\n",
            "Epoch 76/100\n",
            "13/13 [==============================] - 4s 271ms/step - loss: 0.4406 - accuracy: 0.0026 - val_loss: 0.3731 - val_accuracy: 0.0000e+00\n",
            "Epoch 77/100\n",
            "13/13 [==============================] - 5s 407ms/step - loss: 0.4394 - accuracy: 0.0026 - val_loss: 0.3731 - val_accuracy: 0.0000e+00\n",
            "Epoch 78/100\n",
            "13/13 [==============================] - 4s 295ms/step - loss: 0.4388 - accuracy: 0.0026 - val_loss: 0.3729 - val_accuracy: 0.0000e+00\n",
            "Epoch 79/100\n",
            "13/13 [==============================] - 6s 502ms/step - loss: 0.4415 - accuracy: 0.0026 - val_loss: 0.3728 - val_accuracy: 0.0000e+00\n",
            "Epoch 80/100\n",
            "13/13 [==============================] - 6s 432ms/step - loss: 0.4397 - accuracy: 0.0026 - val_loss: 0.3728 - val_accuracy: 0.0000e+00\n",
            "Epoch 81/100\n",
            "13/13 [==============================] - 6s 446ms/step - loss: 0.4370 - accuracy: 0.0026 - val_loss: 0.3728 - val_accuracy: 0.0000e+00\n",
            "Epoch 82/100\n",
            "13/13 [==============================] - 5s 351ms/step - loss: 0.4383 - accuracy: 0.0026 - val_loss: 0.3728 - val_accuracy: 0.0000e+00\n",
            "Epoch 83/100\n",
            "13/13 [==============================] - 4s 283ms/step - loss: 0.4370 - accuracy: 0.0026 - val_loss: 0.3727 - val_accuracy: 0.0000e+00\n",
            "Epoch 84/100\n",
            "13/13 [==============================] - 3s 216ms/step - loss: 0.4385 - accuracy: 0.0026 - val_loss: 0.3727 - val_accuracy: 0.0000e+00\n",
            "Epoch 85/100\n",
            "13/13 [==============================] - 4s 321ms/step - loss: 0.4375 - accuracy: 0.0026 - val_loss: 0.3729 - val_accuracy: 0.0000e+00\n",
            "Epoch 86/100\n",
            "13/13 [==============================] - 3s 200ms/step - loss: 0.4385 - accuracy: 0.0026 - val_loss: 0.3727 - val_accuracy: 0.0000e+00\n",
            "Epoch 87/100\n",
            "13/13 [==============================] - 3s 203ms/step - loss: 0.4381 - accuracy: 0.0026 - val_loss: 0.3728 - val_accuracy: 0.0000e+00\n",
            "Epoch 88/100\n",
            "13/13 [==============================] - 3s 245ms/step - loss: 0.4377 - accuracy: 0.0026 - val_loss: 0.3732 - val_accuracy: 0.0000e+00\n",
            "Epoch 89/100\n",
            "13/13 [==============================] - 6s 502ms/step - loss: 0.4385 - accuracy: 0.0026 - val_loss: 0.3727 - val_accuracy: 0.0000e+00\n",
            "Epoch 90/100\n",
            "13/13 [==============================] - 5s 392ms/step - loss: 0.4394 - accuracy: 0.0026 - val_loss: 0.3730 - val_accuracy: 0.0000e+00\n",
            "Epoch 91/100\n",
            "13/13 [==============================] - 5s 427ms/step - loss: 0.4392 - accuracy: 0.0026 - val_loss: 0.3732 - val_accuracy: 0.0000e+00\n",
            "Epoch 92/100\n",
            "13/13 [==============================] - 5s 334ms/step - loss: 0.4369 - accuracy: 0.0026 - val_loss: 0.3728 - val_accuracy: 0.0000e+00\n",
            "Epoch 93/100\n",
            "13/13 [==============================] - 3s 236ms/step - loss: 0.4367 - accuracy: 0.0026 - val_loss: 0.3729 - val_accuracy: 0.0000e+00\n",
            "Epoch 94/100\n",
            "13/13 [==============================] - 3s 205ms/step - loss: 0.4379 - accuracy: 0.0026 - val_loss: 0.3727 - val_accuracy: 0.0000e+00\n",
            "Epoch 95/100\n",
            "13/13 [==============================] - 4s 298ms/step - loss: 0.4412 - accuracy: 0.0026 - val_loss: 0.3728 - val_accuracy: 0.0000e+00\n",
            "Epoch 96/100\n",
            "13/13 [==============================] - 3s 201ms/step - loss: 0.4426 - accuracy: 0.0026 - val_loss: 0.3731 - val_accuracy: 0.0000e+00\n",
            "Epoch 97/100\n",
            "13/13 [==============================] - 3s 205ms/step - loss: 0.4363 - accuracy: 0.0026 - val_loss: 0.3728 - val_accuracy: 0.0000e+00\n",
            "Epoch 98/100\n",
            "13/13 [==============================] - 3s 199ms/step - loss: 0.4365 - accuracy: 0.0026 - val_loss: 0.3729 - val_accuracy: 0.0000e+00\n",
            "Epoch 99/100\n",
            "13/13 [==============================] - 3s 261ms/step - loss: 0.4370 - accuracy: 0.0026 - val_loss: 0.3727 - val_accuracy: 0.0000e+00\n",
            "Epoch 100/100\n",
            "13/13 [==============================] - 3s 218ms/step - loss: 0.4375 - accuracy: 0.0026 - val_loss: 0.3726 - val_accuracy: 0.0000e+00\n"
          ]
        },
        {
          "output_type": "execute_result",
          "data": {
            "text/plain": [
              "<keras.callbacks.History at 0x79e4951f1930>"
            ]
          },
          "metadata": {},
          "execution_count": 77
        }
      ]
    },
    {
      "cell_type": "code",
      "source": [
        "train_predict = model.predict(x_train)\n",
        "test_predict = model.predict(x_test)"
      ],
      "metadata": {
        "colab": {
          "base_uri": "https://localhost:8080/"
        },
        "id": "sWKY4slZCO29",
        "outputId": "08d396e7-1ddc-49bc-8c05-1050de8cd9e1"
      },
      "execution_count": 82,
      "outputs": [
        {
          "output_type": "stream",
          "name": "stdout",
          "text": [
            "25/25 [==============================] - 1s 55ms/step\n",
            "9/9 [==============================] - 0s 40ms/step\n"
          ]
        }
      ]
    },
    {
      "cell_type": "code",
      "source": [
        "train_predict = sc.inverse_transform(train_predict)\n",
        "test_predict =  sc.inverse_transform(test_predict)"
      ],
      "metadata": {
        "id": "07tvNu9RGDt5"
      },
      "execution_count": 83,
      "outputs": []
    },
    {
      "cell_type": "markdown",
      "source": [
        "Root Mean Square Evaluation"
      ],
      "metadata": {
        "id": "A-fp-oiVFDrP"
      }
    },
    {
      "cell_type": "code",
      "source": [
        "import math\n",
        "from sklearn.metrics import mean_squared_error\n",
        "math.sqrt(mean_squared_error(y_train,train_predict))"
      ],
      "metadata": {
        "colab": {
          "base_uri": "https://localhost:8080/"
        },
        "id": "vWNetFfPFJmc",
        "outputId": "d8b46be9-f07b-4519-fd90-a8055529ca76"
      },
      "execution_count": 84,
      "outputs": [
        {
          "output_type": "execute_result",
          "data": {
            "text/plain": [
              "209.70805249615805"
            ]
          },
          "metadata": {},
          "execution_count": 84
        }
      ]
    },
    {
      "cell_type": "code",
      "source": [
        "math.sqrt(mean_squared_error(y_test,test_predict))"
      ],
      "metadata": {
        "colab": {
          "base_uri": "https://localhost:8080/"
        },
        "id": "VI1_t9OTFfAd",
        "outputId": "8ebb2bab-dc9a-484e-a952-7ea4c7a56917"
      },
      "execution_count": 85,
      "outputs": [
        {
          "output_type": "execute_result",
          "data": {
            "text/plain": [
              "157.92974702401284"
            ]
          },
          "metadata": {},
          "execution_count": 85
        }
      ]
    },
    {
      "cell_type": "code",
      "source": [],
      "metadata": {
        "id": "E2hBTgN9FnyQ"
      },
      "execution_count": null,
      "outputs": []
    }
  ]
}